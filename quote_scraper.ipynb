{
 "cells": [
  {
   "cell_type": "markdown",
   "id": "f89e2372-04b0-4442-b4cf-19aa65b5904e",
   "metadata": {},
   "source": [
    "Step 1: Install Required Libraries"
   ]
  },
  {
   "cell_type": "code",
   "execution_count": 2,
   "id": "51b62cd6-836a-4ffd-8439-3c90a87a6af6",
   "metadata": {},
   "outputs": [
    {
     "name": "stdout",
     "output_type": "stream",
     "text": [
      "Requirement already satisfied: requests in /opt/anaconda3/lib/python3.11/site-packages (2.32.3)\n",
      "Requirement already satisfied: beautifulsoup4 in /opt/anaconda3/lib/python3.11/site-packages (4.12.2)\n",
      "Requirement already satisfied: pandas in /opt/anaconda3/lib/python3.11/site-packages (2.1.4)\n",
      "Requirement already satisfied: matplotlib in /opt/anaconda3/lib/python3.11/site-packages (3.8.0)\n",
      "Requirement already satisfied: seaborn in /opt/anaconda3/lib/python3.11/site-packages (0.12.2)\n",
      "Requirement already satisfied: streamlit in /opt/anaconda3/lib/python3.11/site-packages (1.36.0)\n",
      "Requirement already satisfied: sqlalchemy in /opt/anaconda3/lib/python3.11/site-packages (2.0.25)\n",
      "Requirement already satisfied: wordcloud in /opt/anaconda3/lib/python3.11/site-packages (1.9.3)\n",
      "Requirement already satisfied: nltk in /opt/anaconda3/lib/python3.11/site-packages (3.8.1)\n",
      "Requirement already satisfied: charset-normalizer<4,>=2 in /opt/anaconda3/lib/python3.11/site-packages (from requests) (2.0.4)\n",
      "Requirement already satisfied: idna<4,>=2.5 in /opt/anaconda3/lib/python3.11/site-packages (from requests) (3.4)\n",
      "Requirement already satisfied: urllib3<3,>=1.21.1 in /opt/anaconda3/lib/python3.11/site-packages (from requests) (2.0.7)\n",
      "Requirement already satisfied: certifi>=2017.4.17 in /opt/anaconda3/lib/python3.11/site-packages (from requests) (2024.7.4)\n",
      "Requirement already satisfied: soupsieve>1.2 in /opt/anaconda3/lib/python3.11/site-packages (from beautifulsoup4) (2.5)\n",
      "Requirement already satisfied: numpy<2,>=1.23.2 in /opt/anaconda3/lib/python3.11/site-packages (from pandas) (1.26.4)\n",
      "Requirement already satisfied: python-dateutil>=2.8.2 in /opt/anaconda3/lib/python3.11/site-packages (from pandas) (2.8.2)\n",
      "Requirement already satisfied: pytz>=2020.1 in /opt/anaconda3/lib/python3.11/site-packages (from pandas) (2023.3.post1)\n",
      "Requirement already satisfied: tzdata>=2022.1 in /opt/anaconda3/lib/python3.11/site-packages (from pandas) (2023.3)\n",
      "Requirement already satisfied: contourpy>=1.0.1 in /opt/anaconda3/lib/python3.11/site-packages (from matplotlib) (1.2.0)\n",
      "Requirement already satisfied: cycler>=0.10 in /opt/anaconda3/lib/python3.11/site-packages (from matplotlib) (0.11.0)\n",
      "Requirement already satisfied: fonttools>=4.22.0 in /opt/anaconda3/lib/python3.11/site-packages (from matplotlib) (4.25.0)\n",
      "Requirement already satisfied: kiwisolver>=1.0.1 in /opt/anaconda3/lib/python3.11/site-packages (from matplotlib) (1.4.4)\n",
      "Requirement already satisfied: packaging>=20.0 in /opt/anaconda3/lib/python3.11/site-packages (from matplotlib) (23.1)\n",
      "Requirement already satisfied: pillow>=6.2.0 in /opt/anaconda3/lib/python3.11/site-packages (from matplotlib) (10.2.0)\n",
      "Requirement already satisfied: pyparsing>=2.3.1 in /opt/anaconda3/lib/python3.11/site-packages (from matplotlib) (3.0.9)\n",
      "Requirement already satisfied: altair<6,>=4.0 in /opt/anaconda3/lib/python3.11/site-packages (from streamlit) (5.0.1)\n",
      "Requirement already satisfied: blinker<2,>=1.0.0 in /opt/anaconda3/lib/python3.11/site-packages (from streamlit) (1.6.2)\n",
      "Requirement already satisfied: cachetools<6,>=4.0 in /opt/anaconda3/lib/python3.11/site-packages (from streamlit) (4.2.2)\n",
      "Requirement already satisfied: click<9,>=7.0 in /opt/anaconda3/lib/python3.11/site-packages (from streamlit) (8.1.7)\n",
      "Requirement already satisfied: protobuf<6,>=3.20 in /opt/anaconda3/lib/python3.11/site-packages (from streamlit) (3.20.3)\n",
      "Requirement already satisfied: pyarrow>=7.0 in /opt/anaconda3/lib/python3.11/site-packages (from streamlit) (17.0.0)\n",
      "Requirement already satisfied: rich<14,>=10.14.0 in /opt/anaconda3/lib/python3.11/site-packages (from streamlit) (13.3.5)\n",
      "Requirement already satisfied: tenacity<9,>=8.1.0 in /opt/anaconda3/lib/python3.11/site-packages (from streamlit) (8.2.2)\n",
      "Requirement already satisfied: toml<2,>=0.10.1 in /opt/anaconda3/lib/python3.11/site-packages (from streamlit) (0.10.2)\n",
      "Requirement already satisfied: typing-extensions<5,>=4.3.0 in /opt/anaconda3/lib/python3.11/site-packages (from streamlit) (4.9.0)\n",
      "Requirement already satisfied: gitpython!=3.1.19,<4,>=3.0.7 in /opt/anaconda3/lib/python3.11/site-packages (from streamlit) (3.1.37)\n",
      "Requirement already satisfied: pydeck<1,>=0.8.0b4 in /opt/anaconda3/lib/python3.11/site-packages (from streamlit) (0.8.0)\n",
      "Requirement already satisfied: tornado<7,>=6.0.3 in /opt/anaconda3/lib/python3.11/site-packages (from streamlit) (6.3.3)\n",
      "Requirement already satisfied: joblib in /opt/anaconda3/lib/python3.11/site-packages (from nltk) (1.2.0)\n",
      "Requirement already satisfied: regex>=2021.8.3 in /opt/anaconda3/lib/python3.11/site-packages (from nltk) (2023.10.3)\n",
      "Requirement already satisfied: tqdm in /opt/anaconda3/lib/python3.11/site-packages (from nltk) (4.66.4)\n",
      "Requirement already satisfied: jinja2 in /opt/anaconda3/lib/python3.11/site-packages (from altair<6,>=4.0->streamlit) (3.1.3)\n",
      "Requirement already satisfied: jsonschema>=3.0 in /opt/anaconda3/lib/python3.11/site-packages (from altair<6,>=4.0->streamlit) (4.19.2)\n",
      "Requirement already satisfied: toolz in /opt/anaconda3/lib/python3.11/site-packages (from altair<6,>=4.0->streamlit) (0.12.0)\n",
      "Requirement already satisfied: gitdb<5,>=4.0.1 in /opt/anaconda3/lib/python3.11/site-packages (from gitpython!=3.1.19,<4,>=3.0.7->streamlit) (4.0.7)\n",
      "Requirement already satisfied: six>=1.5 in /opt/anaconda3/lib/python3.11/site-packages (from python-dateutil>=2.8.2->pandas) (1.16.0)\n",
      "Requirement already satisfied: markdown-it-py<3.0.0,>=2.2.0 in /opt/anaconda3/lib/python3.11/site-packages (from rich<14,>=10.14.0->streamlit) (2.2.0)\n",
      "Requirement already satisfied: pygments<3.0.0,>=2.13.0 in /opt/anaconda3/lib/python3.11/site-packages (from rich<14,>=10.14.0->streamlit) (2.15.1)\n",
      "Requirement already satisfied: smmap<5,>=3.0.1 in /opt/anaconda3/lib/python3.11/site-packages (from gitdb<5,>=4.0.1->gitpython!=3.1.19,<4,>=3.0.7->streamlit) (4.0.0)\n",
      "Requirement already satisfied: MarkupSafe>=2.0 in /opt/anaconda3/lib/python3.11/site-packages (from jinja2->altair<6,>=4.0->streamlit) (2.1.3)\n",
      "Requirement already satisfied: attrs>=22.2.0 in /opt/anaconda3/lib/python3.11/site-packages (from jsonschema>=3.0->altair<6,>=4.0->streamlit) (23.1.0)\n",
      "Requirement already satisfied: jsonschema-specifications>=2023.03.6 in /opt/anaconda3/lib/python3.11/site-packages (from jsonschema>=3.0->altair<6,>=4.0->streamlit) (2023.7.1)\n",
      "Requirement already satisfied: referencing>=0.28.4 in /opt/anaconda3/lib/python3.11/site-packages (from jsonschema>=3.0->altair<6,>=4.0->streamlit) (0.30.2)\n",
      "Requirement already satisfied: rpds-py>=0.7.1 in /opt/anaconda3/lib/python3.11/site-packages (from jsonschema>=3.0->altair<6,>=4.0->streamlit) (0.10.6)\n",
      "Requirement already satisfied: mdurl~=0.1 in /opt/anaconda3/lib/python3.11/site-packages (from markdown-it-py<3.0.0,>=2.2.0->rich<14,>=10.14.0->streamlit) (0.1.0)\n",
      "Note: you may need to restart the kernel to use updated packages.\n"
     ]
    }
   ],
   "source": [
    "pip install requests beautifulsoup4 pandas matplotlib seaborn streamlit sqlalchemy wordcloud nltk"
   ]
  },
  {
   "cell_type": "markdown",
   "id": "27f7a329-5dd2-4612-882d-67aea97c75b6",
   "metadata": {},
   "source": [
    "Step 2: Create the quote_scraper.py File"
   ]
  },
  {
   "cell_type": "markdown",
   "id": "35728665-359c-44eb-82f3-3d9b22a7f996",
   "metadata": {},
   "source": [
    "### Full Code for `quote_scraper.py`\n",
    "\n",
    "Paste and save the following code in the `streamlit-app/quote_scraper.py` file."
   ]
  },
  {
   "cell_type": "code",
   "execution_count": 4,
   "id": "aaf4c3c4-fd8d-42cb-824c-1db3f12e7904",
   "metadata": {},
   "outputs": [
    {
     "name": "stderr",
     "output_type": "stream",
     "text": [
      "[nltk_data] Downloading package stopwords to\n",
      "[nltk_data]     /Users/suheylozdemir/nltk_data...\n",
      "[nltk_data]   Package stopwords is already up-to-date!\n",
      "2024-07-19 03:31:39.301 \n",
      "  \u001b[33m\u001b[1mWarning:\u001b[0m to view this Streamlit app on a browser, run it with the following\n",
      "  command:\n",
      "\n",
      "    streamlit run /opt/anaconda3/lib/python3.11/site-packages/ipykernel_launcher.py [ARGUMENTS]\n"
     ]
    }
   ],
   "source": [
    "import streamlit as st\n",
    "import requests\n",
    "from bs4 import BeautifulSoup\n",
    "import pandas as pd\n",
    "import matplotlib.pyplot as plt\n",
    "import seaborn as sns\n",
    "from wordcloud import WordCloud\n",
    "from sqlalchemy import create_engine\n",
    "import nltk\n",
    "from nltk.corpus import stopwords\n",
    "\n",
    "# Download the NLTK stopwords package\n",
    "nltk.download('stopwords')\n",
    "\n",
    "# Function to scrape quotes from the Quotes to Scrape website\n",
    "def scrape_quotes():\n",
    "    url = 'https://quotes.toscrape.com/'\n",
    "    response = requests.get(url)\n",
    "    soup = BeautifulSoup(response.content, 'html.parser')\n",
    "    \n",
    "    quotes = []\n",
    "    authors = []\n",
    "    \n",
    "    for quote in soup.find_all('div', class_='quote'):\n",
    "        text = quote.find('span', class_='text').get_text(strip=True)\n",
    "        author = quote.find('small', class_='author').get_text(strip=True)\n",
    "        \n",
    "        quotes.append(text)\n",
    "        authors.append(author)\n",
    "    \n",
    "    data = {'Quote': quotes, 'Author': authors}\n",
    "    df = pd.DataFrame(data)\n",
    "    return df\n",
    "\n",
    "# Function to analyze and visualize the data\n",
    "def analyze_and_visualize(df):\n",
    "    if df.empty:\n",
    "        st.write(\"No data available to analyze.\")\n",
    "        return\n",
    "    \n",
    "    author_counts = df['Author'].value_counts().head(10)\n",
    "    \n",
    "    plt.figure(figsize=(10, 6))\n",
    "    sns.barplot(x=author_counts.index, y=author_counts.values, palette='viridis')\n",
    "    plt.title('Top 10 Authors by Number of Quotes')\n",
    "    plt.xlabel('Author')\n",
    "    plt.ylabel('Number of Quotes')\n",
    "    plt.xticks(rotation=45)\n",
    "    st.pyplot(plt.gcf())\n",
    "\n",
    "    text = ' '.join(df['Quote'])\n",
    "    stop_words = set(stopwords.words('english'))\n",
    "    wordcloud = WordCloud(stopwords=stop_words, background_color='white', width=800, height=400).generate(text)\n",
    "    \n",
    "    plt.figure(figsize=(10, 6))\n",
    "    plt.imshow(wordcloud, interpolation='bilinear')\n",
    "    plt.axis('off')\n",
    "    plt.title('Word Cloud of Quotes')\n",
    "    st.pyplot(plt.gcf())\n",
    "\n",
    "# Function to save the data to a SQLite database\n",
    "def save_to_database(df, db_name='quotes.db', table_name='quotes'):\n",
    "    engine = create_engine(f'sqlite:///{db_name}')\n",
    "    df.to_sql(table_name, engine, if_exists='replace', index=False)\n",
    "\n",
    "# Streamlit app title\n",
    "st.title(\"Quotes Scraping and Analysis\")\n",
    "\n",
    "st.write(\"\"\"\n",
    "## Scrape Quotes from Quotes to Scrape\n",
    "Click the button below to scrape quotes from the Quotes to Scrape website, analyze the data, and save it to a database.\n",
    "\"\"\")\n",
    "\n",
    "# Button to trigger scraping, analysis, and saving to database\n",
    "if st.button(\"Scrape and Analyze\"):\n",
    "    df = scrape_quotes()\n",
    "    st.write(\"### Scraped Data\")\n",
    "    st.write(df)\n",
    "    st.write(\"### Analysis and Visualization\")\n",
    "    analyze_and_visualize(df)\n",
    "    save_to_database(df)\n",
    "    st.write(\"Data saved to database.\")"
   ]
  },
  {
   "cell_type": "markdown",
   "id": "9b068965-c8f6-452e-a6df-acbc07e3b9e7",
   "metadata": {},
   "source": [
    "Step 3: Run the Application"
   ]
  },
  {
   "cell_type": "markdown",
   "id": "fa71d53f-ebe9-4dbd-b9f8-a35a456ac274",
   "metadata": {},
   "source": [
    "### Running the Application\n",
    "\n",
    "1. Open Terminal and navigate to the `streamlit-app` directory:\n",
    "```bash\n",
    "cd /Users/suheylozdemir/streamlit-app"
   ]
  },
  {
   "cell_type": "markdown",
   "id": "4571590f-6730-41b4-9a6c-909d2fbd0a67",
   "metadata": {},
   "source": [
    "\t2.\tRun the Streamlit application:"
   ]
  },
  {
   "cell_type": "markdown",
   "id": "68e2f649-a62d-4da5-ab1a-39c0224993e0",
   "metadata": {},
   "source": [
    "streamlit run quote_scraper.py\n",
    "\n",
    "By following these steps, you will create an application that scrapes data from the quotes.toscrape.com website, analyzes it, visualizes it, and saves it to an SQLite database. The application will display the results using Streamlit."
   ]
  },
  {
   "cell_type": "markdown",
   "id": "3d329a29-c22f-4295-8f7e-32339c9d5448",
   "metadata": {},
   "source": [
    "<div style=\"text-align: center; margin-top: 20px;\">\n",
    "        <p style=\"font-size: 20px; font-weight: bold;\">Süheyl Özdemir</p>\n",
    "        <p style=\"font-size: 16px; color: gray;\">Data Scientist & AI Volunteer</p>\n",
    "    </div>"
   ]
  }
 ],
 "metadata": {
  "kernelspec": {
   "display_name": "Python 3 (ipykernel)",
   "language": "python",
   "name": "python3"
  },
  "language_info": {
   "codemirror_mode": {
    "name": "ipython",
    "version": 3
   },
   "file_extension": ".py",
   "mimetype": "text/x-python",
   "name": "python",
   "nbconvert_exporter": "python",
   "pygments_lexer": "ipython3",
   "version": "3.11.8"
  }
 },
 "nbformat": 4,
 "nbformat_minor": 5
}
